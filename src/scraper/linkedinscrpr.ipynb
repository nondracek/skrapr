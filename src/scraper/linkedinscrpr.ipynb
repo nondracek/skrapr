{
 "cells": [
  {
   "cell_type": "code",
   "execution_count": 1,
   "metadata": {
    "collapsed": true
   },
   "outputs": [],
   "source": [
    "import requests\n",
    "from bs4 import BeautifulSoup\n",
    "from IPython.display import IFrame, HTML"
   ]
  },
  {
   "cell_type": "code",
   "execution_count": 7,
   "metadata": {
    "collapsed": false
   },
   "outputs": [
    {
     "ename": "WebDriverException",
     "evalue": "Message: 'chormedriver' executable needs to be in PATH. Please see https://sites.google.com/a/chromium.org/chromedriver/home\n",
     "output_type": "error",
     "traceback": [
      "\u001b[0;31m---------------------------------------------------------------------------\u001b[0m",
      "\u001b[0;31mWebDriverException\u001b[0m                        Traceback (most recent call last)",
      "\u001b[0;32m<ipython-input-7-a620ccff4adf>\u001b[0m in \u001b[0;36m<module>\u001b[0;34m()\u001b[0m\n\u001b[1;32m      2\u001b[0m \u001b[0;32mfrom\u001b[0m \u001b[0mselenium\u001b[0m \u001b[0;32mimport\u001b[0m \u001b[0mwebdriver\u001b[0m\u001b[0;34m\u001b[0m\u001b[0m\n\u001b[1;32m      3\u001b[0m \u001b[0;34m\u001b[0m\u001b[0m\n\u001b[0;32m----> 4\u001b[0;31m \u001b[0mbrowser\u001b[0m \u001b[0;34m=\u001b[0m \u001b[0mwebdriver\u001b[0m\u001b[0;34m.\u001b[0m\u001b[0mChrome\u001b[0m\u001b[0;34m(\u001b[0m\u001b[0;34m'/chormedriver'\u001b[0m\u001b[0;34m)\u001b[0m\u001b[0;34m\u001b[0m\u001b[0m\n\u001b[0m\u001b[1;32m      5\u001b[0m \u001b[0mbrowser\u001b[0m\u001b[0;34m.\u001b[0m\u001b[0mget\u001b[0m\u001b[0;34m(\u001b[0m\u001b[0murl\u001b[0m\u001b[0;34m)\u001b[0m\u001b[0;34m\u001b[0m\u001b[0m\n\u001b[1;32m      6\u001b[0m \u001b[0mhtml\u001b[0m \u001b[0;34m=\u001b[0m \u001b[0mbrowser\u001b[0m\u001b[0;34m.\u001b[0m\u001b[0mpage_source\u001b[0m\u001b[0;34m\u001b[0m\u001b[0m\n",
      "\u001b[0;32m/Users/nondracek/anaconda/lib/python2.7/site-packages/selenium/webdriver/chrome/webdriver.pyc\u001b[0m in \u001b[0;36m__init__\u001b[0;34m(self, executable_path, port, options, service_args, desired_capabilities, service_log_path, chrome_options)\u001b[0m\n\u001b[1;32m     66\u001b[0m             \u001b[0mservice_args\u001b[0m\u001b[0;34m=\u001b[0m\u001b[0mservice_args\u001b[0m\u001b[0;34m,\u001b[0m\u001b[0;34m\u001b[0m\u001b[0m\n\u001b[1;32m     67\u001b[0m             log_path=service_log_path)\n\u001b[0;32m---> 68\u001b[0;31m         \u001b[0mself\u001b[0m\u001b[0;34m.\u001b[0m\u001b[0mservice\u001b[0m\u001b[0;34m.\u001b[0m\u001b[0mstart\u001b[0m\u001b[0;34m(\u001b[0m\u001b[0;34m)\u001b[0m\u001b[0;34m\u001b[0m\u001b[0m\n\u001b[0m\u001b[1;32m     69\u001b[0m \u001b[0;34m\u001b[0m\u001b[0m\n\u001b[1;32m     70\u001b[0m         \u001b[0;32mtry\u001b[0m\u001b[0;34m:\u001b[0m\u001b[0;34m\u001b[0m\u001b[0m\n",
      "\u001b[0;32m/Users/nondracek/anaconda/lib/python2.7/site-packages/selenium/webdriver/common/service.pyc\u001b[0m in \u001b[0;36mstart\u001b[0;34m(self)\u001b[0m\n\u001b[1;32m     81\u001b[0m                 raise WebDriverException(\n\u001b[1;32m     82\u001b[0m                     \"'%s' executable needs to be in PATH. %s\" % (\n\u001b[0;32m---> 83\u001b[0;31m                         os.path.basename(self.path), self.start_error_message)\n\u001b[0m\u001b[1;32m     84\u001b[0m                 )\n\u001b[1;32m     85\u001b[0m             \u001b[0;32melif\u001b[0m \u001b[0merr\u001b[0m\u001b[0;34m.\u001b[0m\u001b[0merrno\u001b[0m \u001b[0;34m==\u001b[0m \u001b[0merrno\u001b[0m\u001b[0;34m.\u001b[0m\u001b[0mEACCES\u001b[0m\u001b[0;34m:\u001b[0m\u001b[0;34m\u001b[0m\u001b[0m\n",
      "\u001b[0;31mWebDriverException\u001b[0m: Message: 'chormedriver' executable needs to be in PATH. Please see https://sites.google.com/a/chromium.org/chromedriver/home\n"
     ]
    }
   ],
   "source": [
    "from bs4 import BeautifulSoup\n",
    "from selenium import webdriver\n",
    "\n",
    "browser = webdriver.Chrome('/chormedriver')\n",
    "browser.get(url)\n",
    "html = browser.page_source\n",
    "soup = BeautifulSoup(html, 'lxml')"
   ]
  },
  {
   "cell_type": "code",
   "execution_count": 37,
   "metadata": {
    "collapsed": false,
    "scrolled": true
   },
   "outputs": [
    {
     "data": {
      "text/plain": [
       "<html><head>\n",
       "<script type=\"text/javascript\">\n",
       "window.onload = function() {\n",
       "  // Parse the tracking code from cookies.\n",
       "  var trk = \"bf\";\n",
       "  var trkInfo = \"bf\";\n",
       "  var cookies = document.cookie.split(\"; \");\n",
       "  for (var i = 0; i < cookies.length; ++i) {\n",
       "    if ((cookies[i].indexOf(\"trkCode=\") == 0) && (cookies[i].length > 8)) {\n",
       "      trk = cookies[i].substring(8);\n",
       "    }\n",
       "    else if ((cookies[i].indexOf(\"trkInfo=\") == 0) && (cookies[i].length > 8)) {\n",
       "      trkInfo = cookies[i].substring(8);\n",
       "    }\n",
       "  }\n",
       "\n",
       "  if (window.location.protocol == \"http:\") {\n",
       "    // If \"sl\" cookie is set, redirect to https.\n",
       "    for (var i = 0; i < cookies.length; ++i) {\n",
       "      if ((cookies[i].indexOf(\"sl=\") == 0) && (cookies[i].length > 3)) {\n",
       "        window.location.href = \"https:\" + window.location.href.substring(window.location.protocol.length);\n",
       "        return;\n",
       "      }\n",
       "    }\n",
       "  }\n",
       "\n",
       "  // Get the new domain. For international domains such as\n",
       "  // fr.linkedin.com, we convert it to www.linkedin.com\n",
       "  var domain = \"www.linkedin.com\";\n",
       "  if (domain != location.host) {\n",
       "    var subdomainIndex = location.host.indexOf(\".linkedin\");\n",
       "    if (subdomainIndex != -1) {\n",
       "      domain = \"www\" + location.host.substring(subdomainIndex);\n",
       "    }\n",
       "  }\n",
       "\n",
       "  window.location.href = \"https://\" + domain + \"/authwall?trk=\" + trk + \"&trkInfo=\" + trkInfo +\n",
       "      \"&originalReferer=\" + document.referrer.substr(0, 200) +\n",
       "      \"&sessionRedirect=\" + encodeURIComponent(window.location.href);\n",
       "}\n",
       "</script>\n",
       "</head><body></body></html>"
      ]
     },
     "execution_count": 37,
     "metadata": {},
     "output_type": "execute_result"
    }
   ],
   "source": [
    "soup"
   ]
  },
  {
   "cell_type": "code",
   "execution_count": 39,
   "metadata": {
    "collapsed": true
   },
   "outputs": [],
   "source": [
    "import selenium.webdriver\n",
    "import time\n",
    "from os import environ\n",
    "from abc import abstractmethod\n",
    "from selenium.webdriver.support.ui import WebDriverWait\n",
    "from selenium.webdriver.support import expected_conditions as EC\n",
    "from selenium.webdriver.common.by import By"
   ]
  },
  {
   "cell_type": "code",
   "execution_count": 70,
   "metadata": {
    "collapsed": true
   },
   "outputs": [],
   "source": [
    "driver = selenium.webdriver.Chrome('/Users/alidastjerdi/Downloads/chromedriver')"
   ]
  },
  {
   "cell_type": "code",
   "execution_count": 71,
   "metadata": {
    "collapsed": true
   },
   "outputs": [],
   "source": [
    "driver.implicitly_wait(10)"
   ]
  },
  {
   "cell_type": "code",
   "execution_count": 72,
   "metadata": {
    "collapsed": true
   },
   "outputs": [],
   "source": [
    "driver.get(url)"
   ]
  },
  {
   "cell_type": "code",
   "execution_count": 73,
   "metadata": {
    "collapsed": true
   },
   "outputs": [],
   "source": [
    "elem = driver.find_element_by_xpath(\"//*\")\n",
    "source_code = elem.get_attribute(\"outerHTML\")"
   ]
  },
  {
   "cell_type": "code",
   "execution_count": 76,
   "metadata": {
    "collapsed": true
   },
   "outputs": [],
   "source": [
    "source = driver.page_source"
   ]
  },
  {
   "cell_type": "code",
   "execution_count": 79,
   "metadata": {
    "collapsed": true
   },
   "outputs": [],
   "source": [
    "soup = BeautifulSoup(source, 'lxml')"
   ]
  },
  {
   "cell_type": "code",
   "execution_count": 80,
   "metadata": {
    "collapsed": false
   },
   "outputs": [
    {
     "data": {
      "text/plain": [
       "<!DOCTYPE html>\n",
       "<!--[if lt IE 7]> <html lang=\"en\" class=\"ie ie6 lte9 lte8 lte7 os-mac\"> <![endif]--><!--[if IE 7]> <html lang=\"en\" class=\"ie ie7 lte9 lte8 lte7 os-mac\"> <![endif]--><!--[if IE 8]> <html lang=\"en\" class=\"ie ie8 lte9 lte8 os-mac\"> <![endif]--><!--[if IE 9]> <html lang=\"en\" class=\"ie ie9 lte9 os-mac\"> <![endif]--><!--[if gt IE 9]> <html lang=\"en\" class=\"os-mac\"> <![endif]--><!--[if !IE]><!--><html class=\"os-mac\" lang=\"en\" xmlns=\"http://www.w3.org/1999/xhtml\"><!--<![endif]--><head>\n",
       "<meta charset=\"utf-8\"/>\n",
       "<title>LinkedIn: Log In or Sign Up\n",
       " </title>\n",
       "<meta content=\"origin\" name=\"referrer\"/>\n",
       "<meta content=\"IE=edge\" http-equiv=\"X-UA-Compatible\"/>\n",
       "<meta content=\"e8408efe-49d0-47f8-975e-a7e853651c0e\" name=\"pageImpressionID\"/>\n",
       "<meta content=\"chrome\" name=\"appName\"/>\n",
       "<meta content=\"auth_wall_desktop_profile\" name=\"pageKey\"/>\n",
       "<meta content=\"7hkDaR97NBUwdw6WRisAAA==\" name=\"treeID\"/>\n",
       "<meta content=\"//www.linkedin.com/mob/tracking\" name=\"globalTrackingUrl\"/>\n",
       "<meta content=\"chrome\" name=\"globalTrackingAppName\"/>\n",
       "<meta content=\"webTracking\" name=\"globalTrackingAppId\"/>\n",
       "<!--[if lte IE 8]>\n",
       "  <link rel=\"shortcut icon\" href=\"https://static.licdn.com/scds/common/u/images/logos/favicons/v1/16x16/favicon.ico\">\n",
       "<![endif]-->\n",
       "<!--[if IE 9]>\n",
       "  <link rel=\"shortcut icon\" href=\"https://static.licdn.com/scds/common/u/images/logos/favicons/v1/favicon.ico\">\n",
       "<![endif]-->\n",
       "<link href=\"https://static.licdn.com/scds/common/u/images/logos/favicons/v1/favicon.ico\" rel=\"icon\"/>\n",
       "<link href=\"https://static.licdn.com/scds/common/u/img/icon/apple-touch-icon.png\" rel=\"apple-touch-icon-precomposed\"/>\n",
       "<meta content=\"https://static.licdn.com/scds/common/u/images/logos/linkedin/logo-in-win8-tile-144_v1.png\" name=\"msapplication-TileImage\"/>\n",
       "<meta content=\"#0077B5\" name=\"msapplication-TileColor\"/>\n",
       "<meta content=\"LinkedIn\" name=\"application-name\"/>\n",
       "<meta content=\"https://static.licdn.com/scds/concat/common/js?v=0.1.509\" name=\"RemoteNavJSContentBaseURL\"/>\n",
       "<script src=\"https://static.licdn.com/scds/concat/common/js?h=7ndrn0f9fw0hum7uoqcjcnzne-95d8d303rtd0n9wj4dcjbnh2c-7vr4nuab43rzvy2pgq7yvvxjk-9qa4rfxekcw3lt2c06h7p0kmf\" type=\"text/javascript\"></script>\n",
       "<link href=\"https://static.licdn.com/scds/concat/common/css?h=as8kt5bqspxc01tl9cizqa37j\" rel=\"stylesheet\" type=\"text/css\"/>\n",
       "<script></script>\n",
       "<!--[if IE 8]><script src=\"https://static.licdn.com/scds/common/u/lib/polyfill/1.0.2/ie8-polyfill.min.js\"></script><![endif]-->\n",
       "<!--[if IE 9]><script src=\"https://static.licdn.com/scds/common/u/lib/polyfill/1.0.2/ie9-polyfill.min.js\"></script><![endif]-->\n",
       "<meta content=\"https://static.licdn.com/scds/concat/common/js?h=2jds9coeh4w78ed9wblscv68v-ebbt2vixcc5qz0otts5io08xv\" name=\"lnkd-track-json-lib\"/>\n",
       "<meta content=\"seo-directory-frontend\" id=\"appHost\" name=\"appHost\"/>\n",
       "<meta content=\"0.1.312\" id=\"appVersion\" name=\"appVersion\"/>\n",
       "<meta content=\"i001\" id=\"appInstance\" name=\"appInstance\"/>\n",
       "<script src=\"https://static.licdn.com/scds/concat/common/js?h=e2lgukqldpqool72t8g7tysag-3nuvxgwg15rbghxm1gpzfbya2-1nm61x5u7981e88m10hpaekkm-mv3v66b8q0h1hvgvd3yfjv5f-14k913qahq3mh0ac0lh0twk9v\" type=\"text/javascript\"></script>\n",
       "<meta content=\"noindex, noarchive\" name=\"robots\"/><meta content=\"width=device-width, minimum-scale=1.0, maximum-scale=1.0, user-scalable=no\" name=\"viewport\"/><meta content=\"en_US\" name=\"locale\"/><link href=\"https://static.licdn.com/sc/h/zt8js35a0p7onk2ij7ceqahk\" rel=\"stylesheet\"/>\n",
       "</head>\n",
       "<body class=\"js guest\" dir=\"ltr\" id=\"pagekey-auth_wall_desktop_profile\">\n",
       "<div id=\"application-body\">\n",
       "<script data-page-js-type=\"lix\">\n",
       "                    (function(n, r, a) {\n",
       "                      r = window[n] = window[n] || {};\n",
       "                      \n",
       "                        \n",
       "                            r['jsecure_injectAlert'] = 'enabled';\n",
       "                          \n",
       "                      \n",
       "                        \n",
       "                            r['jsecure_Dialog'] = 'control';\n",
       "                          \n",
       "                      \n",
       "                    }('__li__lix_registry__'));\n",
       "                  </script>\n",
       "<main id=\"layout-main\" role=\"main\">\n",
       "<header class=\"nav\"><img alt=\"\" class=\"lazy-loaded\" src=\"https://static.licdn.com/sc/h/95o6rrc5ws6mlw6wqzy0xgj7y\"/></header><div class=\"main\"><img class=\"background lazy-loaded\" src=\"https://static.licdn.com/sc/h/734ll15l5cvbbovgvzso1x7oj\"/><div class=\"flip-card \"><form action=\"https://www.linkedin.com/uas/login-submit\" class=\"login-form\" method=\"POST\"><legend class=\"form-title\">Sign in to view profiles</legend><label class=\"login-form__label\" for=\"login-email\">Email</label><input autocapitalize=\"off\" autofocus=\"autofocus\" class=\"login-email\" id=\"login-email\" name=\"session_key\" placeholder=\"Email\" tabindex=\"1\" type=\"text\"/><label class=\"login-form__label\" for=\"login-password\">Password</label><input aria-required=\"true\" class=\"login-password\" id=\"login-password\" name=\"session_password\" placeholder=\"Password\" tabindex=\"1\" type=\"password\"/><input name=\"isJsEnabled\" type=\"hidden\" value=\"false\"/><input id=\"loginCsrfParam-login\" name=\"loginCsrfParam\" type=\"hidden\" value=\"c0a76759-3a00-4db1-88df-f5bc5186494e\"/><input id=\"session_redirect-login\" name=\"session_redirect\" type=\"hidden\" value=\"https://www.linkedin.com/in/robpetrozzo/\"/><input class=\"login submit-button\" id=\"login-submit\" tabindex=\"1\" type=\"submit\" value=\"Sign in\"/><a class=\"form-subtext link-forgot-password\" href=\"https://www.linkedin.com/uas/request-password-reset?trk=auth_wall_desktop_profile-forgot-password\" tabindex=\"1\">Forgot password?</a><p class=\"form-subtext join-now\">Don't have an account? <a class=\"join-link form-toggle\" href=\"https://www.linkedin.com/start/join?session_redirect=https%3A%2F%2Fwww%2Elinkedin%2Ecom%2Fin%2Frobpetrozzo%2F&amp;trk=public_auth-wall_profile-join-link\">Sign up</a></p></form><form action=\"https://www.linkedin.com/start/join-prefill?trk=public_auth-wall_profile\" class=\"join-form\" data-jsenabled=\"check\" id=\"join-form\" method=\"POST\"><legend class=\"form-title\">Join to view full profiles for free</legend><label for=\"join-firstName\">First name</label><input autofocus=\"autofocus\" class=\"join-firstname join-input name-input\" id=\"join-firstname\" name=\"firstName\" placeholder=\"First name\" tabindex=\"1\" type=\"text\"/><label for=\"join-lastName\">Last name</label><input class=\"join-lastname join-input name-input\" id=\"join-lastname\" name=\"lastName\" placeholder=\"Last name\" tabindex=\"1\" type=\"text\"/><label for=\"join-email\">Email</label><input autocapitalize=\"off\" autofocus=\"autofocus\" class=\"join-email join-input\" id=\"join-email\" name=\"session_key\" placeholder=\"Email\" tabindex=\"1\" type=\"text\"/><label for=\"join-password\">Password (6 or more characters)</label><input autocomplete=\"new-password\" class=\"join-password join-input\" id=\"join-password\" name=\"session_password\" placeholder=\"Password (6 or more characters)\" tabindex=\"1\" type=\"password\"/><p class=\"error-message\"></p><p class=\"form-caption agreement\">By clicking Join now, you agree to the LinkedIn <a href=\"https://www.linkedin.com/legal/user-agreement\" tabindex=\"2\">User Agreement</a>, <a href=\"https://www.linkedin.com/legal/privacy-policy\" tabindex=\"2\">Privacy Policy</a>, and <a href=\"https://www.linkedin.com/legal/cookie-policy\" tabindex=\"2\">Cookie Policy</a>.</p><input class=\"join submit-button\" id=\"join-submit\" tabindex=\"1\" type=\"submit\" value=\"Join now\"/><p class=\"form-subtext login\">Already have an account? <a class=\"form-toggle\" href=\"https://www.linkedin.com/uas/login?session_redirect=https%3A%2F%2Fwww%2Elinkedin%2Ecom%2Fin%2Frobpetrozzo%2F&amp;trk=public_auth-wall_profile\">Sign in</a></p></form></div></div>\n",
       "</main>\n",
       "<script src=\"https://static.licdn.com/scds/concat/common/js?h=a06jpss2hf43xwxobn0gl598m-44hhbxag3hinac547ym9vby09-5jratctnqzzuc1057yivxswgf-9zz2lhu3eq1epk7sq1t8cdb5s-eound1d1xhqm86h7g2p57b94l-edgsl2z4e4gk56cy2m5kbpp1q-acgipb6zomeaovod456pb7yjs-bctwwqj7p01tcj2smshz2bboe-88ec8b078z4fzj5q3z4qowg63-bftaa82sjwcbrohoe28skni7b-58m2n4boqb1vxfd6hgd34auwd-8ycvggo1571xgrdka3utvcyml-cfabcg4u1cj0em4yissh5mfxu\" type=\"text/javascript\"></script>\n",
       "<script data-page-js-type=\"config\">\n",
       "                    (function(n, r, a) {\n",
       "                      r = window[n] = window[n] || {};\n",
       "                      \n",
       "                        \n",
       "                            \n",
       "                                a = r['WebTracking'] = r['WebTracking'] || {};\n",
       "                                a['URLs'] = {'saveWebActionTrackURL':'\\/lite\\/secure-web-action-track?csrfToken=ajax%3A8126183584061134911'};\n",
       "                              \n",
       "                          \n",
       "                      \n",
       "                    }('__li__config_registry__'));\n",
       "                  </script>\n",
       "<script data-page-js-type=\"lix\">\n",
       "                    (function(n, r, a) {\n",
       "                      r = window[n] = window[n] || {};\n",
       "                      \n",
       "                        \n",
       "                            r['global_bsp_notice_type'] = 'warning';\n",
       "                          \n",
       "                      \n",
       "                        \n",
       "                            r['global_bsp_notice_autoHide'] = 'false';\n",
       "                          \n",
       "                      \n",
       "                        \n",
       "                            r['global_bsp_view_threshold'] = 'c5';\n",
       "                          \n",
       "                      \n",
       "                    }('__li__lix_registry__'));\n",
       "                  </script>\n",
       "<script data-page-js-type=\"i18n\">\n",
       "                    (function(n, r, a) {\n",
       "                      r = window[n] = window[n] || {};\n",
       "                      \n",
       "                        \n",
       "                            r['global_browser_unsupported_notice'] = 'Looks like you\\'re using a browser that\\'s not supported. &lt;a target=\\\"_blank\\\" href=\\\"https:\\/\\/www.linkedin.com\\/help\\/linkedin\\/answer\\/4135?lang=en\\\"&gt;Learn more about browsers you can use.&lt;\\/a&gt;';\n",
       "                          \n",
       "                      \n",
       "                    }('__li__i18n_registry__'));\n",
       "                  </script>\n",
       "<script data-page-js-type=\"config\">\n",
       "                    (function(n, r, a) {\n",
       "                      r = window[n] = window[n] || {};\n",
       "                      \n",
       "                        \n",
       "                            \n",
       "                                r['LoggedOutBadging'] = {url: '\\/chrome\\/logged-out-badging?csrfToken=ajax%3A8126183584061134911'};\n",
       "                              \n",
       "                          \n",
       "                      \n",
       "                        \n",
       "                            \n",
       "                                a = r['global:browserSupportPolicy'] = r['global:browserSupportPolicy'] || {};\n",
       "                                a['supportedBrowserMinVersions'] = {      ie:             'control',      firefox:        'v38',      opera:          'control',      safari:         'v6.1',      chrome:         'v42',      mobileSafari:   'v7',      android:        'v2.3',      androidChrome:  'v0'    };\n",
       "                              \n",
       "                          \n",
       "                      \n",
       "                    }('__li__config_registry__'));\n",
       "                  </script>\n",
       "<script src=\"https://static.licdn.com/scds/concat/common/js?h=3kp2aedn5pmamdr4dk4n8atur-3ti5bgrnb6idjtk0w4chaigxe-5hqr1i1uoezoj0z1s5gcxojf2-71o37tcjwl0ishto9izvyml3i-3bbdjshpw5ov0rwa8xe08tp97-cayct4cirf7n0f9z1xsg84g0q-dktkawxk7k8pixuh5g8z5ku32-213zbp2wzp99lviwl8g2cvq6i-1lknwtftishpdmobzm413yc7u-bcxa0v9ke411pjpmz4s239f9b-2s77lcl0ztx2c5fzyqvglptj1-4oxrpzoyo6knraptad8orx3t9-8h514j3fiwnzuwkt66sbxsu8f-di2z9sra5co9la7ogqyesywin\" type=\"text/javascript\"></script>\n",
       "<script async=\"\" defer=\"\" src=\"https://static.licdn.com/sc/h/e6eh8dhpjnc18cb4v1ja07lnc\"></script>\n",
       "<script type=\"text/javascript\">\n",
       "\n",
       " if (!window.LI) { window.LI = {}; }\n",
       " LI.RUM = LI.RUM || {};\n",
       "\n",
       " (function(RUM, win) {\n",
       "\n",
       " var doc = win.document;\n",
       "\n",
       " RUM.flags = RUM.flags || {};\n",
       " RUM.flags['host-flag'] = \"control\";\n",
       " RUM.flags['pop_beacons_frequency'] = \"control\";\n",
       " RUM.flags['rs_timings_individual'] = \"n1000\";\n",
       " RUM.flags['rs_timings_individual_detail'] = \"enabled\";\n",
       "\n",
       " RUM.urls = RUM.urls || {};\n",
       " RUM.urls['rum-track'] = \"\\/lite\\/rum-track?csrfToken=ajax%3A8126183584061134911\";\n",
       " RUM.urls['boomerang-bw-img'] = \"https:\\/\\/static.licdn.com\\/scds\\/common\\/u\\/lib\\/boomerang\\/0.9.edge.4ab208445a\\/img\\/\";\n",
       "\n",
       " RUM.base_urls = RUM.base_urls || {};\n",
       " RUM.base_urls['permanent_content'] = \"https:\\/\\/static.licdn.com\\/scds\\/common\\/u\\/\";\n",
       " RUM.base_urls['versioned_content'] = \"https:\\/\\/static.licdn.com\\/scds\\/concat\\/common\\/\";\n",
       " RUM.base_urls['media_proxy'] = \"https:\\/\\/media.licdn.com\\/media-proxy\\/\";\n",
       "\n",
       " RUM.serverStartTime = 1.527981548443E12;\n",
       "\n",
       " RUM.enabled = true;\n",
       "\n",
       " function getRumScript() {\n",
       " var node = doc.body || doc.head || doc.getElementsByTagName('head')[0],\n",
       " script = doc.createElement('script');\n",
       " script.src = \n",
       " [\"https://static.licdn.com/scds/concat/common/js?h=ed29nkjpsa16bhrjq4na16owq-1mucgfycc664m7vmhpjgqse65-1l5rurej3h44qodo5rn0cdvyn-8om6v2ckrxsbnwf40t9ta8a7e-8jlhg6lqacthgadello7fgxzm-28w7d5j2k2jtil9ncckolke4m-9jzlwicvu376y9q4vjq77y5ks-1m0whdrwis44c1hoa9mrwhlt4-1uvutm1mpyov7rqhtcf8fksby-aac54ic1fmca5xz1yvc5t9nfe-1hn40w0bomeivihj9lopp4hp2-c0121povror81d0xao0yez4gy\"]\n",
       " [0];\n",
       " node.appendChild(script);\n",
       " }\n",
       "\n",
       " if (win.addEventListener) {\n",
       " win.addEventListener('load', getRumScript);\n",
       " }\n",
       " else {\n",
       " win.attachEvent('onload', getRumScript);\n",
       " }\n",
       "\n",
       " }(LI.RUM, window));\n",
       " </script>\n",
       "<meta content=\"//platform.linkedin.com/js/px.js\" name=\"detectAdBlock\"/>\n",
       "<script async=\"\" defer=\"\" src=\"https://static.licdn.com/scds/concat/common/js?h=69w33ou4umkyupw2uqgn7za7w\"></script>\n",
       "<script class=\"comscore-tracking\">\n",
       " (function(_e, _r) {\n",
       " var isNielsenDisabled = true;\n",
       " var providers = {\n",
       " 'COMSCORE': {\n",
       " 'treatment': 'control'\n",
       " }\n",
       " };\n",
       " if (!isNielsenDisabled) {\n",
       " providers['NIELSEN'] = {\n",
       " 'treatment': 'control'\n",
       " };\n",
       " }\n",
       "\n",
       " var fireComscore = function() {\n",
       " var comScore = window.COMSCORE;\n",
       " if (comScore) {\n",
       " comScore.beacon({ c1: 2, c2: 6402952, c3: '', c4: '', c5: '', c6: '', c15: '' });\n",
       " }\n",
       " };\n",
       "\n",
       " var uc = window.encodeURIComponent, timeStamp = (new Date()).getTime();\n",
       " var fireExternalTracking = function(et) {\n",
       " if (typeof et.trackPageChromeInit === 'function') {\n",
       " et.trackPageChromeInit(providers);\n",
       " } else {\n",
       " // Default treatment if not read from LIX.\n",
       " et.setTreatment('enabled_1.0');\n",
       " et.trackWithComScoreForChromeInit();\n",
       " if (!isNielsenDisabled) {\n",
       " var img = new Image(1, 1);\n",
       " img.onerror = img.onload = function () {\n",
       " img.onerror = img.onload = null;\n",
       " };\n",
       " img.src = [\n",
       " \"//secure-gl.imrworldwide.com/cgi-bin/m?ci=au-linkedin&amp;cc=1&amp;si=\",\n",
       " uc(window.location.href),\n",
       " \"&amp;rp=\", uc(document.referrer), \"&amp;ts=compact&amp;rnd=\", timeStamp\n",
       " ].join('');\n",
       " }\n",
       " }\n",
       " };\n",
       " var track = function() {\n",
       " var et;\n",
       " if (_e) {\n",
       " fireExternalTracking(_e);\n",
       " } else if (_r &amp;&amp; typeof _r.ensure === 'function') {\n",
       " try {\n",
       " _r.ensure(['externalTracking'], function (require) {\n",
       " try {\n",
       " et = require('externalTracking');\n",
       " fireExternalTracking(et);\n",
       " } catch (e) {\n",
       " fireComscore();\n",
       " }\n",
       " });\n",
       " } catch (e) {\n",
       " fireComscore();\n",
       " }\n",
       " } else if (_r &amp;&amp; _r._is_li) {\n",
       " try {\n",
       " et = require('externalTracking');\n",
       " fireExternalTracking(et);\n",
       " } catch (e) {\n",
       " fireComscore();\n",
       " }\n",
       " } else {\n",
       " fireComscore();\n",
       " }\n",
       " };\n",
       " window.addEventListener('load', track);\n",
       " }(window.externalTracking, window.require));\n",
       "</script>\n",
       "<noscript>\n",
       " &lt;img src=\"https://sb.scorecardresearch.com/b?c1=2&amp;amp;c2=6402952&amp;amp;c3=&amp;amp;c4=&amp;amp;c5=&amp;amp;c6=&amp;amp;c15=&amp;amp;cv=1.3&amp;amp;cj=1\" style=\"display:none\" width=\"0\" height=\"0\" alt=\"\" /&gt;\n",
       "</noscript>\n",
       "<script type=\"text/javascript\">\n",
       " (function(d) {\n",
       " function go() {\n",
       " var a = d.createElement('iframe');\n",
       " a.style.display = 'none';\n",
       " a.setAttribute('sandbox', 'allow-scripts allow-same-origin');\n",
       " a.src = '//radar.cedexis.com/1/11326/radar.html';\n",
       " if (d.body) {\n",
       " d.body.appendChild(a);\n",
       " }\n",
       " }\n",
       "\n",
       " if (window.addEventListener) {\n",
       " window.addEventListener('load', go, false);\n",
       " } else if (window.addEvent) {\n",
       " window.addEvent('onload', go);\n",
       " }\n",
       " }(document));\n",
       " </script>\n",
       "</div>\n",
       "<script src=\"https://static.licdn.com/scds/concat/common/js?h=ed29nkjpsa16bhrjq4na16owq-1mucgfycc664m7vmhpjgqse65-1l5rurej3h44qodo5rn0cdvyn-8om6v2ckrxsbnwf40t9ta8a7e-8jlhg6lqacthgadello7fgxzm-28w7d5j2k2jtil9ncckolke4m-9jzlwicvu376y9q4vjq77y5ks-1m0whdrwis44c1hoa9mrwhlt4-1uvutm1mpyov7rqhtcf8fksby-aac54ic1fmca5xz1yvc5t9nfe-1hn40w0bomeivihj9lopp4hp2-c0121povror81d0xao0yez4gy\"></script><iframe sandbox=\"allow-scripts allow-same-origin\" src=\"//radar.cedexis.com/1/11326/radar.html\" style=\"display: none;\"></iframe><script src=\"//platform.linkedin.com/js/px.js?ch=1\"></script><script src=\"//platform.linkedin.com/js/px.js?ch=2\"></script></body></html>"
      ]
     },
     "execution_count": 80,
     "metadata": {},
     "output_type": "execute_result"
    }
   ],
   "source": [
    "soup"
   ]
  },
  {
   "cell_type": "code",
   "execution_count": 69,
   "metadata": {
    "collapsed": false
   },
   "outputs": [
    {
     "data": {
      "text/plain": [
       "<selenium.webdriver.support.wait.WebDriverWait (session=\"f12798738492578d59e7ad6082e07fce\")>"
      ]
     },
     "execution_count": 69,
     "metadata": {},
     "output_type": "execute_result"
    }
   ],
   "source": [
    "WebDriverWait(driver, 5).unitl"
   ]
  },
  {
   "cell_type": "code",
   "execution_count": 68,
   "metadata": {
    "collapsed": false
   },
   "outputs": [
    {
     "ename": "TimeoutException",
     "evalue": "Message: \n",
     "output_type": "error",
     "traceback": [
      "\u001b[0;31m---------------------------------------------------------------------------\u001b[0m",
      "\u001b[0;31mTimeoutException\u001b[0m                          Traceback (most recent call last)",
      "\u001b[0;32m<ipython-input-68-1f5e122c7644>\u001b[0m in \u001b[0;36m<module>\u001b[0;34m()\u001b[0m\n\u001b[1;32m      3\u001b[0m                     (By.CSS_SELECTOR, '.pv-top-card-section')),\n\u001b[1;32m      4\u001b[0m                 EC.presence_of_element_located(\n\u001b[0;32m----> 5\u001b[0;31m                     (By.CSS_SELECTOR, '.profile-unavailable'))))\n\u001b[0m",
      "\u001b[0;32m~/anaconda3/lib/python3.6/site-packages/selenium/webdriver/support/wait.py\u001b[0m in \u001b[0;36muntil\u001b[0;34m(self, method, message)\u001b[0m\n\u001b[1;32m     78\u001b[0m             \u001b[0;32mif\u001b[0m \u001b[0mtime\u001b[0m\u001b[0;34m.\u001b[0m\u001b[0mtime\u001b[0m\u001b[0;34m(\u001b[0m\u001b[0;34m)\u001b[0m \u001b[0;34m>\u001b[0m \u001b[0mend_time\u001b[0m\u001b[0;34m:\u001b[0m\u001b[0;34m\u001b[0m\u001b[0m\n\u001b[1;32m     79\u001b[0m                 \u001b[0;32mbreak\u001b[0m\u001b[0;34m\u001b[0m\u001b[0m\n\u001b[0;32m---> 80\u001b[0;31m         \u001b[0;32mraise\u001b[0m \u001b[0mTimeoutException\u001b[0m\u001b[0;34m(\u001b[0m\u001b[0mmessage\u001b[0m\u001b[0;34m,\u001b[0m \u001b[0mscreen\u001b[0m\u001b[0;34m,\u001b[0m \u001b[0mstacktrace\u001b[0m\u001b[0;34m)\u001b[0m\u001b[0;34m\u001b[0m\u001b[0m\n\u001b[0m\u001b[1;32m     81\u001b[0m \u001b[0;34m\u001b[0m\u001b[0m\n\u001b[1;32m     82\u001b[0m     \u001b[0;32mdef\u001b[0m \u001b[0muntil_not\u001b[0m\u001b[0;34m(\u001b[0m\u001b[0mself\u001b[0m\u001b[0;34m,\u001b[0m \u001b[0mmethod\u001b[0m\u001b[0;34m,\u001b[0m \u001b[0mmessage\u001b[0m\u001b[0;34m=\u001b[0m\u001b[0;34m''\u001b[0m\u001b[0;34m)\u001b[0m\u001b[0;34m:\u001b[0m\u001b[0;34m\u001b[0m\u001b[0m\n",
      "\u001b[0;31mTimeoutException\u001b[0m: Message: \n"
     ]
    }
   ],
   "source": [
    "myElem = WebDriverWait(driver, 5).until(AnyEC(\n",
    "                EC.presence_of_element_located(\n",
    "                    (By.CSS_SELECTOR, '.pv-top-card-section')),\n",
    "                EC.presence_of_element_located(\n",
    "                    (By.CSS_SELECTOR, '.profile-unavailable'))))"
   ]
  },
  {
   "cell_type": "code",
   "execution_count": 62,
   "metadata": {
    "collapsed": false
   },
   "outputs": [
    {
     "ename": "ModuleNotFoundError",
     "evalue": "No module named '__main__.utils'; '__main__' is not a package",
     "output_type": "error",
     "traceback": [
      "\u001b[0;31m---------------------------------------------------------------------------\u001b[0m",
      "\u001b[0;31mModuleNotFoundError\u001b[0m                       Traceback (most recent call last)",
      "\u001b[0;32m<ipython-input-62-1e973970ebfc>\u001b[0m in \u001b[0;36m<module>\u001b[0;34m()\u001b[0m\n\u001b[1;32m      1\u001b[0m \u001b[0;32mfrom\u001b[0m \u001b[0mselenium\u001b[0m\u001b[0;34m.\u001b[0m\u001b[0mwebdriver\u001b[0m\u001b[0;34m.\u001b[0m\u001b[0msupport\u001b[0m \u001b[0;32mimport\u001b[0m \u001b[0mexpected_conditions\u001b[0m \u001b[0;32mas\u001b[0m \u001b[0mEC\u001b[0m\u001b[0;34m\u001b[0m\u001b[0m\n\u001b[1;32m      2\u001b[0m \u001b[0;32mfrom\u001b[0m \u001b[0mselenium\u001b[0m\u001b[0;34m.\u001b[0m\u001b[0mwebdriver\u001b[0m\u001b[0;34m.\u001b[0m\u001b[0mcommon\u001b[0m\u001b[0;34m.\u001b[0m\u001b[0mby\u001b[0m \u001b[0;32mimport\u001b[0m \u001b[0mBy\u001b[0m\u001b[0;34m\u001b[0m\u001b[0m\n\u001b[0;32m----> 3\u001b[0;31m \u001b[0;32mfrom\u001b[0m \u001b[0;34m.\u001b[0m\u001b[0mutils\u001b[0m \u001b[0;32mimport\u001b[0m \u001b[0mAnyEC\u001b[0m\u001b[0;34m\u001b[0m\u001b[0m\n\u001b[0m",
      "\u001b[0;31mModuleNotFoundError\u001b[0m: No module named '__main__.utils'; '__main__' is not a package"
     ]
    }
   ],
   "source": [
    "from selenium.webdriver.support import expected_conditions as EC\n",
    "from selenium.webdriver.common.by import By\n",
    "from .utils import AnyEC"
   ]
  },
  {
   "cell_type": "code",
   "execution_count": 63,
   "metadata": {
    "collapsed": true
   },
   "outputs": [],
   "source": [
    "class AnyEC(object):\n",
    "    def __init__(self, *args):\n",
    "        self.ecs = args\n",
    "\n",
    "    def __call__(self, driver):\n",
    "        for fn in self.ecs:\n",
    "            try:\n",
    "                if fn(driver):\n",
    "                    return True\n",
    "            except:\n",
    "                pass\n",
    "        return False"
   ]
  },
  {
   "cell_type": "code",
   "execution_count": null,
   "metadata": {
    "collapsed": true
   },
   "outputs": [],
   "source": [
    "driver = "
   ]
  }
 ],
 "metadata": {
  "kernelspec": {
   "display_name": "Python 2",
   "language": "python",
   "name": "python2"
  },
  "language_info": {
   "codemirror_mode": {
    "name": "ipython",
    "version": 2
   },
   "file_extension": ".py",
   "mimetype": "text/x-python",
   "name": "python",
   "nbconvert_exporter": "python",
   "pygments_lexer": "ipython2",
   "version": "2.7.13"
  }
 },
 "nbformat": 4,
 "nbformat_minor": 2
}
